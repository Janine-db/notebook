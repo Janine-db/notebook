{
 "cells": [
  {
   "cell_type": "markdown",
   "id": "70c906e3",
   "metadata": {},
   "source": [
    "My Jupyter Notebook on IBM Watson Studio"
   ]
  },
  {
   "cell_type": "markdown",
   "id": "3372a3b2",
   "metadata": {},
   "source": [
    "**Janine Delgadillo** <br>\n",
    "Asistente administrativo"
   ]
  },
  {
   "cell_type": "markdown",
   "id": "d6106f1c",
   "metadata": {},
   "source": [
    "*Estoy interesada en el data science por que no se absolutamente nada del tema, es muy interesante y me queda claro que cada vez se tiene que usar más*"
   ]
  },
  {
   "cell_type": "markdown",
   "id": "caec65d1",
   "metadata": {},
   "source": [
    "<h3> Debe de sumar las variables"
   ]
  },
  {
   "cell_type": "code",
   "execution_count": 18,
   "id": "aae738ad",
   "metadata": {},
   "outputs": [
    {
     "data": {
      "text/plain": [
       "4"
      ]
     },
     "execution_count": 18,
     "metadata": {},
     "output_type": "execute_result"
    }
   ],
   "source": [
    "1+3"
   ]
  },
  {
   "cell_type": "markdown",
   "id": "0b954b8c",
   "metadata": {},
   "source": [
    "* uno\n",
    "* dos\n",
    "* tres <br>\n",
    "---\n",
    "***\n"
   ]
  },
  {
   "cell_type": "code",
   "execution_count": null,
   "id": "74daa49d",
   "metadata": {},
   "outputs": [],
   "source": []
  },
  {
   "cell_type": "code",
   "execution_count": null,
   "id": "735e30f5",
   "metadata": {},
   "outputs": [],
   "source": []
  }
 ],
 "metadata": {
  "kernelspec": {
   "display_name": "Python 3 (ipykernel)",
   "language": "python",
   "name": "python3"
  },
  "language_info": {
   "codemirror_mode": {
    "name": "ipython",
    "version": 3
   },
   "file_extension": ".py",
   "mimetype": "text/x-python",
   "name": "python",
   "nbconvert_exporter": "python",
   "pygments_lexer": "ipython3",
   "version": "3.10.9"
  }
 },
 "nbformat": 4,
 "nbformat_minor": 5
}
